{
 "cells": [
  {
   "cell_type": "markdown",
   "metadata": {},
   "source": [
    "# Convolutional Neural Networks: Application\n",
    "\n",
    "Welcome to Course 4's second assignment! In this notebook, you will:\n",
    "\n",
    "- Create a mood classifer using the TF Keras Sequential API\n",
    "- Build a ConvNet to identify sign language digits using the TF Keras Functional API\n",
    "\n",
    "**After this assignment you will be able to:**\n",
    "\n",
    "- Build and train a ConvNet in TensorFlow for a __binary__ classification problem\n",
    "- Build and train a ConvNet in TensorFlow for a __multiclass__ classification problem\n",
    "- Explain different use cases for the Sequential and Functional APIs\n",
    "\n",
    "To complete this assignment, you should already be familiar with TensorFlow. If you are not, please refer back to the **TensorFlow Tutorial** of the third week of Course 2 (\"**Improving deep neural networks**\")."
   ]
  },
  {
   "cell_type": "markdown",
   "metadata": {},
   "source": [
    "## Table of Contents\n",
    "\n",
    "- [1 - Packages](#1)\n",
    "    - [1.1 - Load the Data and Split the Data into Train/Test Sets](#1-1)\n",
    "- [2 - Layers in TF Keras](#2)\n",
    "- [3 - The Sequential API](#3)\n",
    "    - [3.1 - Create the Sequential Model](#3-1)\n",
    "        - [Exercise 1 - happyModel](#ex-1)\n",
    "    - [3.2 - Train and Evaluate the Model](#3-2)\n",
    "- [4 - The Functional API](#4)\n",
    "    - [4.1 - Load the SIGNS Dataset](#4-1)\n",
    "    - [4.2 - Split the Data into Train/Test Sets](#4-2)\n",
    "    - [4.3 - Forward Propagation](#4-3)\n",
    "        - [Exercise 2 - convolutional_model](#ex-2)\n",
    "    - [4.4 - Train the Model](#4-4)\n",
    "- [5 - History Object](#5)\n",
    "- [6 - Bibliography](#6)"
   ]
  },
  {
   "cell_type": "markdown",
   "metadata": {},
   "source": [
    "<a name='1'></a>\n",
    "## 1 - Packages\n",
    "\n",
    "As usual, begin by loading in the packages."
   ]
  },
  {
   "cell_type": "code",
   "execution_count": 132,
   "metadata": {},
   "outputs": [],
   "source": [
    "import math\n",
    "import numpy as np\n",
    "import h5py\n",
    "import matplotlib.pyplot as plt\n",
    "from matplotlib.pyplot import imread\n",
    "import scipy\n",
    "from PIL import Image\n",
    "import pandas as pd\n",
    "import tensorflow as tf\n",
    "from tensorflow.keras.layers import Input, Dense, Activation, ZeroPadding2D, BatchNormalization, Flatten, Conv2D\n",
    "import tensorflow.keras.layers as tfl\n",
    "from tensorflow.python.framework import ops\n",
    "from cnn_utils import *\n",
    "from test_utils import summary, comparator\n",
    "\n",
    "%matplotlib inline\n",
    "np.random.seed(1)"
   ]
  },
  {
   "cell_type": "markdown",
   "metadata": {},
   "source": [
    "<a name='1-1'></a>\n",
    "### 1.1 - Load the Data and Split the Data into Train/Test Sets\n",
    "\n",
    "You'll be using the Happy House dataset for this part of the assignment, which contains images of peoples' faces. Your task will be to build a ConvNet that determines whether the people in the images are smiling or not -- because they only get to enter the house if they're smiling!  "
   ]
  },
  {
   "cell_type": "code",
   "execution_count": 133,
   "metadata": {},
   "outputs": [
    {
     "name": "stdout",
     "output_type": "stream",
     "text": [
      "number of training examples = 600\n",
      "number of test examples = 150\n",
      "X_train shape: (600, 64, 64, 3)\n",
      "Y_train shape: (600, 1)\n",
      "X_test shape: (150, 64, 64, 3)\n",
      "Y_test shape: (150, 1)\n"
     ]
    }
   ],
   "source": [
    "X_train_orig, Y_train_orig, X_test_orig, Y_test_orig, classes = load_happy_dataset()\n",
    "\n",
    "# Normalize image vectors\n",
    "X_train = X_train_orig/255.\n",
    "X_test = X_test_orig/255.\n",
    "\n",
    "# Reshape\n",
    "Y_train = Y_train_orig.T\n",
    "Y_test = Y_test_orig.T\n",
    "\n",
    "print (\"number of training examples = \" + str(X_train.shape[0]))\n",
    "print (\"number of test examples = \" + str(X_test.shape[0]))\n",
    "print (\"X_train shape: \" + str(X_train.shape))\n",
    "print (\"Y_train shape: \" + str(Y_train.shape))\n",
    "print (\"X_test shape: \" + str(X_test.shape))\n",
    "print (\"Y_test shape: \" + str(Y_test.shape))"
   ]
  },
  {
   "cell_type": "markdown",
   "metadata": {},
   "source": [
    "You can display the images contained in the dataset. Images are **64x64** pixels in RGB format (3 channels)."
   ]
  },
  {
   "cell_type": "code",
   "execution_count": 134,
   "metadata": {},
   "outputs": [
    {
     "data": {
      "image/png": "[encoded data removed]",
      "text/plain": [
       "<Figure size 432x288 with 1 Axes>"
      ]
     },
     "metadata": {
      "needs_background": "light"
     },
     "output_type": "display_data"
    }
   ],
   "source": [
    "index = 124\n",
    "plt.imshow(X_train_orig[index]) #display sample training image\n",
    "plt.show()"
   ]
  },
  {
   "cell_type": "markdown",
   "metadata": {},
   "source": [
    "<a name='2'></a>\n",
    "## 2 - Layers in TF Keras \n",
    "\n",
    "In the previous assignment, you created layers manually in numpy. In TF Keras, you don't have to write code directly to create layers. Rather, TF Keras has pre-defined layers you can use. \n",
    "\n",
    "When you create a layer in TF Keras, you are creating a function that takes some input and transforms it into an output you can reuse later. Nice and easy! "
   ]
  },
  {
   "cell_type": "markdown",
   "metadata": {},
   "source": [
    "<a name='3'></a>\n",
    "## 3 - The Sequential API\n",
    "\n",
    "In the previous assignment, you built helper functions using `numpy` to understand the mechanics behind convolutional neural networks. Most practical applications of deep learning today are built using programming frameworks, which have many built-in functions you can simply call. Keras is a high-level abstraction built on top of TensorFlow, which allows for even more simplified and optimized model creation and training. \n",
    "\n",
    "For the first part of this assignment, you'll create a model using TF Keras' Sequential API, which allows you to build layer by layer, and is ideal for building models where each layer has **exactly one** input tensor and **one** output tensor. \n",
    "\n",
    "As you'll see, using the Sequential API is simple and straightforward, but is only appropriate for simpler, more straightforward tasks. Later in this notebook you'll spend some time building with a more flexible, powerful alternative: the Functional API. \n",
    " "
   ]
  },
  {
   "cell_type": "markdown",
   "metadata": {},
   "source": [
    "<a name='3-1'></a>\n",
    "### 3.1 - Create the Sequential Model\n",
    "\n",
    "As mentioned earlier, the TensorFlow Keras Sequential API can be used to build simple models with layer operations that proceed in a sequential order. \n",
    "\n",
    "You can also add layers incrementally to a Sequential model with the `.add()` method, or remove them using the `.pop()` method, much like you would in a regular Python list.\n",
    "\n",
    "Actually, you can think of a Sequential model as behaving like a list of layers. Like Python lists, Sequential layers are ordered, and the order in which they are specified matters.  If your model is non-linear or contains layers with multiple inputs or outputs, a Sequential model wouldn't be the right choice!\n",
    "\n",
    "For any layer construction in Keras, you'll need to specify the input shape in advance. This is because in Keras, the shape of the weights is based on the shape of the inputs. The weights are only created when the model first sees some input data. Sequential models can be created by passing a list of layers to the Sequential constructor, like you will do in the next assignment.\n",
    "\n",
    "<a name='ex-1'></a>\n",
    "### Exercise 1 - happyModel\n",
    "\n",
    "Implement the `happyModel` function below to build the following model: `ZEROPAD2D -> CONV2D -> BATCHNORM -> RELU -> MAXPOOL -> FLATTEN -> DENSE`. Take help from [tf.keras.layers](https://www.tensorflow.org/api_docs/python/tf/keras/layers) \n",
    "\n",
    "Also, plug in the following parameters for all the steps:\n",
    "\n",
    " - [ZeroPadding2D](https://www.tensorflow.org/api_docs/python/tf/keras/layers/ZeroPadding2D): padding 3, input shape 64 x 64 x 3\n",
    " - [Conv2D](https://www.tensorflow.org/api_docs/python/tf/keras/layers/Conv2D): Use 32 7x7 filters, stride 1\n",
    " - [BatchNormalization](https://www.tensorflow.org/api_docs/python/tf/keras/layers/BatchNormalization): for axis 3\n",
    " - [ReLU](https://www.tensorflow.org/api_docs/python/tf/keras/layers/ReLU)\n",
    " - [MaxPool2D](https://www.tensorflow.org/api_docs/python/tf/keras/layers/MaxPool2D): Using default parameters\n",
    " - [Flatten](https://www.tensorflow.org/api_docs/python/tf/keras/layers/Flatten) the previous output.\n",
    " - Fully-connected ([Dense](https://www.tensorflow.org/api_docs/python/tf/keras/layers/Dense)) layer: Apply a fully connected layer with 1 neuron and a sigmoid activation. \n",
    " \n",
    " \n",
    " **Hint:**\n",
    " \n",
    " Use **tfl** as shorthand for **tensorflow.keras.layers**"
   ]
  },
  {
   "cell_type": "code",
   "execution_count": 135,
   "metadata": {
    "deletable": false,
    "nbgrader": {
     "cell_type": "code",
     "checksum": "95d28b191f257bdd5b70c7b8952559d5",
     "grade": false,
     "grade_id": "cell-0e56d3fc28b69aec",
     "locked": false,
     "schema_version": 3,
     "solution": true,
     "task": false
    }
   },
   "outputs": [],
   "source": [
    "# GRADED FUNCTION: happyModel\n",
    "\n",
    "def happyModel():\n",
    "    \"\"\"\n",
    "    Implements the forward propagation for the binary classification model:\n",
    "    ZEROPAD2D -> CONV2D -> BATCHNORM -> RELU -> MAXPOOL -> FLATTEN -> DENSE\n",
    "    \n",
    "    Note that for simplicity and grading purposes, you'll hard-code all the values\n",
    "    such as the stride and kernel (filter) sizes. \n",
    "    Normally, functions should take these values as function parameters.\n",
    "    \n",
    "    Arguments:\n",
    "    None\n",
    "\n",
    "    Returns:\n",
    "    model -- TF Keras model (object containing the information for the entire training process) \n",
    "    \"\"\"\n",
    "    model = tf.keras.Sequential(\n",
    "    [\n",
    "        ## ZeroPadding2D with padding 3, input shape of 64 x 64 x 3\n",
    "        ## Conv2D with 32 7x7 filters and stride of 1 \n",
    "        ## BatchNormalization for axis 3\n",
    "        ## ReLU            \n",
    "        ## Max Pooling 2D with default parameters            \n",
    "        ## Flatten layer            \n",
    "        ## Dense layer with 1 unit for output & 'sigmoid' activation\n",
    "        # YOUR CODE STARTS HERE\n",
    "        \n",
    "        tfl.ZeroPadding2D(padding=(3,3), input_shape=(64,64,3),data_format=\"channels_last\"),\n",
    "        tfl.Conv2D(32, (7, 7), strides = (1, 1), name = 'conv0'),\n",
    "        tfl.BatchNormalization(axis = 3, name = 'bn0'),\n",
    "        tfl.ReLU(),\n",
    "        tfl.MaxPooling2D((2, 2), name='max_pool0'),\n",
    "        tfl.Flatten(),\n",
    "        tfl.Dense(1, activation='sigmoid', name='fc'),\n",
    "        \n",
    "        # YOUR CODE ENDS HERE\n",
    "    ])\n",
    "\n",
    "    return model\n"
   ]
  },
  {
   "cell_type": "code",
   "execution_count": 136,
   "metadata": {
    "deletable": false,
    "editable": false,
    "nbgrader": {
     "cell_type": "code",
     "checksum": "8d3575c950e2e78149be2d05d671c80d",
     "grade": true,
     "grade_id": "cell-e3e1046e5c33d775",
     "locked": true,
     "points": 10,
     "schema_version": 3,
     "solution": false,
     "task": false
    }
   },
   "outputs": [
    {
     "name": "stdout",
     "output_type": "stream",
     "text": [
      "['ZeroPadding2D', (None, 70, 70, 3), 0, ((3, 3), (3, 3))]\n",
      "['Conv2D', (None, 64, 64, 32), 4736, 'valid', 'linear', 'GlorotUniform']\n",
      "['BatchNormalization', (None, 64, 64, 32), 128]\n",
      "['ReLU', (None, 64, 64, 32), 0]\n",
      "['MaxPooling2D', (None, 32, 32, 32), 0, (2, 2), (2, 2), 'valid']\n",
      "['Flatten', (None, 32768), 0]\n",
      "['Dense', (None, 1), 32769, 'sigmoid']\n",
      "\u001b[32mAll tests passed!\u001b[0m\n"
     ]
    }
   ],
   "source": [
    "happy_model = happyModel()\n",
    "# Print a summary for each layer\n",
    "for layer in summary(happy_model):\n",
    "    print(layer)\n",
    "    \n",
    "output = [['ZeroPadding2D', (None, 70, 70, 3), 0, ((3, 3), (3, 3))],\n",
    "            ['Conv2D', (None, 64, 64, 32), 4736, 'valid', 'linear', 'GlorotUniform'],\n",
    "            ['BatchNormalization', (None, 64, 64, 32), 128],\n",
    "            ['ReLU', (None, 64, 64, 32), 0],\n",
    "            ['MaxPooling2D', (None, 32, 32, 32), 0, (2, 2), (2, 2), 'valid'],\n",
    "            ['Flatten', (None, 32768), 0],\n",
    "            ['Dense', (None, 1), 32769, 'sigmoid']]\n",
    "    \n",
    "comparator(summary(happy_model), output)"
   ]
  },
  {
   "cell_type": "markdown",
   "metadata": {},
   "source": [
    "Now that your model is created, you can compile it for training with an optimizer and loss of your choice. When the string `accuracy` is specified as a metric, the type of accuracy used will be automatically converted based on the loss function used. This is one of the many optimizations built into TensorFlow that make your life easier! If you'd like to read more on how the compiler operates, check the docs [here](https://www.tensorflow.org/api_docs/python/tf/keras/Model#compile)."
   ]
  },
  {
   "cell_type": "code",
   "execution_count": 137,
   "metadata": {},
   "outputs": [],
   "source": [
    "happy_model.compile(optimizer='adam',\n",
    "                   loss='binary_crossentropy',\n",
    "                   metrics=['accuracy'])"
   ]
  },
  {
   "cell_type": "markdown",
   "metadata": {},
   "source": [
    "It's time to check your model's parameters with the `.summary()` method. This will display the types of layers you have, the shape of the outputs, and how many parameters are in each layer. "
   ]
  },
  {
   "cell_type": "code",
   "execution_count": 138,
   "metadata": {},
   "outputs": [
    {
     "name": "stdout",
     "output_type": "stream",
     "text": [
      "Model: \"sequential_16\"\n",
      "_________________________________________________________________\n",
      "Layer (type)                 Output Shape              Param #   \n",
      "=================================================================\n",
      "zero_padding2d_21 (ZeroPaddi (None, 70, 70, 3)         0         \n",
      "_________________________________________________________________\n",
      "conv0 (Conv2D)               (None, 64, 64, 32)        4736      \n",
      "_________________________________________________________________\n",
      "bn0 (BatchNormalization)     (None, 64, 64, 32)        128       \n",
      "_________________________________________________________________\n",
      "re_lu_2 (ReLU)               (None, 64, 64, 32)        0         \n",
      "_________________________________________________________________\n",
      "max_pool0 (MaxPooling2D)     (None, 32, 32, 32)        0         \n",
      "_________________________________________________________________\n",
      "flatten_7 (Flatten)          (None, 32768)             0         \n",
      "_________________________________________________________________\n",
      "fc (Dense)                   (None, 1)                 32769     \n",
      "=================================================================\n",
      "Total params: 37,633\n",
      "Trainable params: 37,569\n",
      "Non-trainable params: 64\n",
      "_________________________________________________________________\n"
     ]
    }
   ],
   "source": [
    "happy_model.summary()"
   ]
  },
  {
   "cell_type": "markdown",
   "metadata": {},
   "source": [
    "<a name='3-2'></a>\n",
    "### 3.2 - Train and Evaluate the Model\n",
    "\n",
    "After creating the model, compiling it with your choice of optimizer and loss function, and doing a sanity check on its contents, you are now ready to build! \n",
    "\n",
    "Simply call `.fit()` to train. That's it! No need for mini-batching, saving, or complex backpropagation computations. That's all been done for you, as you're using a TensorFlow dataset with the batches specified already. You do have the option to specify epoch number or minibatch size if you like (for example, in the case of an un-batched dataset)."
   ]
  },
  {
   "cell_type": "code",
   "execution_count": 139,
   "metadata": {},
   "outputs": [
    {
     "name": "stdout",
     "output_type": "stream",
     "text": [
      "Epoch 1/10\n",
      "38/38 [==============================] - 4s 95ms/step - loss: 1.0494 - accuracy: 0.7150 1s - loss: 1\n",
      "Epoch 2/10\n",
      "38/38 [==============================] - 4s 95ms/step - loss: 0.2412 - accuracy: 0.9100\n",
      "Epoch 3/10\n",
      "38/38 [==============================] - 4s 95ms/step - loss: 0.1743 - accuracy: 0.9200\n",
      "Epoch 4/10\n",
      "38/38 [==============================] - 3s 92ms/step - loss: 0.1222 - accuracy: 0.9583\n",
      "Epoch 5/10\n",
      "38/38 [==============================] - 3s 92ms/step - loss: 0.1134 - accuracy: 0.9500\n",
      "Epoch 6/10\n",
      "38/38 [==============================] - 4s 92ms/step - loss: 0.1321 - accuracy: 0.9450\n",
      "Epoch 7/10\n",
      "38/38 [==============================] - 4s 92ms/step - loss: 0.1364 - accuracy: 0.9483\n",
      "Epoch 8/10\n",
      "38/38 [==============================] - 4s 92ms/step - loss: 0.0911 - accuracy: 0.9650\n",
      "Epoch 9/10\n",
      "38/38 [==============================] - 4s 95ms/step - loss: 0.1680 - accuracy: 0.9500\n",
      "Epoch 10/10\n",
      "38/38 [==============================] - 4s 92ms/step - loss: 0.0734 - accuracy: 0.9817\n"
     ]
    },
    {
     "data": {
      "text/plain": [
       "<tensorflow.python.keras.callbacks.History at 0x7fc01d5ce650>"
      ]
     },
     "execution_count": 139,
     "metadata": {},
     "output_type": "execute_result"
    }
   ],
   "source": [
    "happy_model.fit(X_train, Y_train, epochs=10, batch_size=16)"
   ]
  },
  {
   "cell_type": "markdown",
   "metadata": {},
   "source": [
    "After that completes, just use `.evaluate()` to evaluate against your test set. This function will print the value of the loss function and the performance metrics specified during the compilation of the model. In this case, the `binary_crossentropy` and the `accuracy` respectively."
   ]
  },
  {
   "cell_type": "code",
   "execution_count": 140,
   "metadata": {},
   "outputs": [
    {
     "name": "stdout",
     "output_type": "stream",
     "text": [
      "5/5 [==============================] - 0s 39ms/step - loss: 0.3149 - accuracy: 0.8733\n"
     ]
    },
    {
     "data": {
      "text/plain": [
       "[0.3148970305919647, 0.8733333349227905]"
      ]
     },
     "execution_count": 140,
     "metadata": {},
     "output_type": "execute_result"
    }
   ],
   "source": [
    "happy_model.evaluate(X_test, Y_test)"
   ]
  },
  {
   "cell_type": "markdown",
   "metadata": {},
   "source": [
    "Easy, right? But what if you need to build a model with shared layers, branches, or multiple inputs and outputs? This is where Sequential, with its beautifully simple yet limited functionality, won't be able to help you. \n",
    "\n",
    "Next up: Enter the Functional API, your slightly more complex, highly flexible friend.  "
   ]
  },
  {
   "cell_type": "markdown",
   "metadata": {},
   "source": [
    "<a name='4'></a>\n",
    "## 4 - The Functional API"
   ]
  },
  {
   "cell_type": "markdown",
   "metadata": {},
   "source": [
    "Welcome to the second half of the assignment, where you'll use Keras' flexible [Functional API](https://www.tensorflow.org/guide/keras/functional) to build a ConvNet that can differentiate between 6 sign language digits. \n",
    "\n",
    "The Functional API can handle models with non-linear topology, shared layers, as well as layers with multiple inputs or outputs. Imagine that, where the Sequential API requires the model to move in a linear fashion through its layers, the Functional API allows much more flexibility. Where Sequential is a straight line, a Functional model is a graph, where the nodes of the layers can connect in many more ways than one. \n",
    "\n",
    "In the visual example below, the one possible direction of the movement Sequential model is shown in contrast to a skip connection, which is just one of the many ways a Functional model can be constructed. A skip connection, as you might have guessed, skips some layer in the network and feeds the output to a later layer in the network. Don't worry, you'll be spending more time with skip connections very soon! "
   ]
  },
  {
   "cell_type": "markdown",
   "metadata": {},
   "source": [
    "<img src=\"images/seq_vs_func.png\" style=\"width:350px;height:200px;\">"
   ]
  },
  {
   "cell_type": "markdown",
   "metadata": {},
   "source": [
    "<a name='4-1'></a>\n",
    "### 4.1 - Load the SIGNS Dataset\n",
    "\n",
    "As a reminder, the SIGNS dataset is a collection of 6 signs representing numbers from 0 to 5."
   ]
  },
  {
   "cell_type": "code",
   "execution_count": 141,
   "metadata": {},
   "outputs": [],
   "source": [
    "# Loading the data (signs)\n",
    "X_train_orig, Y_train_orig, X_test_orig, Y_test_orig, classes = load_signs_dataset()"
   ]
  },
  {
   "cell_type": "markdown",
   "metadata": {},
   "source": [
    "<img src=\"images/SIGNS.png\" style=\"width:800px;height:300px;\">\n",
    "\n",
    "The next cell will show you an example of a labelled image in the dataset. Feel free to change the value of `index` below and re-run to see different examples. "
   ]
  },
  {
   "cell_type": "code",
   "execution_count": 142,
   "metadata": {},
   "outputs": [
    {
     "name": "stdout",
     "output_type": "stream",
     "text": [
      "y = 4\n"
     ]
    },
    {
     "data": {
      "image/png": "[encoded data removed]",
      "text/plain": [
       "<Figure size 432x288 with 1 Axes>"
      ]
     },
     "metadata": {
      "needs_background": "light"
     },
     "output_type": "display_data"
    }
   ],
   "source": [
    "# Example of an image from the dataset\n",
    "index = 9\n",
    "plt.imshow(X_train_orig[index])\n",
    "print (\"y = \" + str(np.squeeze(Y_train_orig[:, index])))"
   ]
  },
  {
   "cell_type": "markdown",
   "metadata": {},
   "source": [
    "<a name='4-2'></a>\n",
    "### 4.2 - Split the Data into Train/Test Sets\n",
    "\n",
    "In Course 2, you built a fully-connected network for this dataset. But since this is an image dataset, it is more natural to apply a ConvNet to it.\n",
    "\n",
    "To get started, let's examine the shapes of your data. "
   ]
  },
  {
   "cell_type": "code",
   "execution_count": 143,
   "metadata": {},
   "outputs": [
    {
     "name": "stdout",
     "output_type": "stream",
     "text": [
      "number of training examples = 1080\n",
      "number of test examples = 120\n",
      "X_train shape: (1080, 64, 64, 3)\n",
      "Y_train shape: (1080, 6)\n",
      "X_test shape: (120, 64, 64, 3)\n",
      "Y_test shape: (120, 6)\n"
     ]
    }
   ],
   "source": [
    "X_train = X_train_orig/255.\n",
    "X_test = X_test_orig/255.\n",
    "Y_train = convert_to_one_hot(Y_train_orig, 6).T\n",
    "Y_test = convert_to_one_hot(Y_test_orig, 6).T\n",
    "print (\"number of training examples = \" + str(X_train.shape[0]))\n",
    "print (\"number of test examples = \" + str(X_test.shape[0]))\n",
    "print (\"X_train shape: \" + str(X_train.shape))\n",
    "print (\"Y_train shape: \" + str(Y_train.shape))\n",
    "print (\"X_test shape: \" + str(X_test.shape))\n",
    "print (\"Y_test shape: \" + str(Y_test.shape))"
   ]
  },
  {
   "cell_type": "markdown",
   "metadata": {},
   "source": [
    "<a name='4-3'></a>\n",
    "### 4.3 - Forward Propagation\n",
    "\n",
    "In TensorFlow, there are built-in functions that implement the convolution steps for you. By now, you should be familiar with how TensorFlow builds computational graphs. In the [Functional API](https://www.tensorflow.org/guide/keras/functional), you create a graph of layers. This is what allows such great flexibility.\n",
    "\n",
    "However, the following model could also be defined using the Sequential API since the information flow is on a single line. But don't deviate. What we want you to learn is to use the functional API.\n",
    "\n",
    "Begin building your graph of layers by creating an input node that functions as a callable object:\n",
    "\n",
    "- **input_img = tf.keras.Input(shape=input_shape):** \n",
    "\n",
    "Then, create a new node in the graph of layers by calling a layer on the `input_img` object: \n",
    "\n",
    "- **tf.keras.layers.Conv2D(filters= ... , kernel_size= ... , padding='same')(input_img):** Read the full documentation on [Conv2D](https://www.tensorflow.org/api_docs/python/tf/keras/layers/Conv2D).\n",
    "\n",
    "- **tf.keras.layers.MaxPool2D(pool_size=(f, f), strides=(s, s), padding='same'):** `MaxPool2D()` downsamples your input using a window of size (f, f) and strides of size (s, s) to carry out max pooling over each window.  For max pooling, you usually operate on a single example at a time and a single channel at a time. Read the full documentation on [MaxPool2D](https://www.tensorflow.org/api_docs/python/tf/keras/layers/MaxPool2D).\n",
    "\n",
    "- **tf.keras.layers.ReLU():** computes the elementwise ReLU of Z (which can be any shape). You can read the full documentation on [ReLU](https://www.tensorflow.org/api_docs/python/tf/keras/layers/ReLU).\n",
    "\n",
    "- **tf.keras.layers.Flatten()**: given a tensor \"P\", this function takes each training (or test) example in the batch and flattens it into a 1D vector.  \n",
    "\n",
    "    * If a tensor P has the shape (batch_size,h,w,c), it returns a flattened tensor with shape (batch_size, k), where $k=h \\times w \\times c$.  \"k\" equals the product of all the dimension sizes other than the first dimension.\n",
    "    \n",
    "    * For example, given a tensor with dimensions [100, 2, 3, 4], it flattens the tensor to be of shape [100, 24], where 24 = 2 * 3 * 4.  You can read the full documentation on [Flatten](https://www.tensorflow.org/api_docs/python/tf/keras/layers/Flatten).\n",
    "\n",
    "- **tf.keras.layers.Dense(units= ... , activation='softmax')(F):** given the flattened input F, it returns the output computed using a fully connected layer. You can read the full documentation on [Dense](https://www.tensorflow.org/api_docs/python/tf/keras/layers/Dense).\n",
    "\n",
    "In the last function above (`tf.keras.layers.Dense()`), the fully connected layer automatically initializes weights in the graph and keeps on training them as you train the model. Hence, you did not need to initialize those weights when initializing the parameters.\n",
    "\n",
    "Lastly, before creating the model, you'll need to define the output using the last of the function's compositions (in this example, a Dense layer): \n",
    "\n",
    "- **outputs = tf.keras.layers.Dense(units=6, activation='softmax')(F)**\n",
    "\n",
    "\n",
    "#### Window, kernel, filter, pool\n",
    "\n",
    "The words \"kernel\" and \"filter\" are used to refer to the same thing. The word \"filter\" accounts for the amount of \"kernels\" that will be used in a single convolution layer. \"Pool\" is the name of the operation that takes the max or average value of the kernels. \n",
    "\n",
    "This is why the parameter `pool_size` refers to `kernel_size`, and you use `(f,f)` to refer to the filter size. \n",
    "\n",
    "Pool size and kernel size refer to the same thing in different objects - They refer to the shape of the window where the operation takes place. "
   ]
  },
  {
   "cell_type": "markdown",
   "metadata": {},
   "source": [
    "<a name='ex-2'></a>\n",
    "### Exercise 2 - convolutional_model\n",
    "\n",
    "Implement the `convolutional_model` function below to build the following model: `CONV2D -> RELU -> MAXPOOL -> CONV2D -> RELU -> MAXPOOL -> FLATTEN -> DENSE`. Use the functions above! \n",
    "\n",
    "Also, plug in the following parameters for all the steps:\n",
    "\n",
    " - [Conv2D](https://www.tensorflow.org/api_docs/python/tf/keras/layers/Conv2D): Use 8 4 by 4 filters, stride 1, padding is \"SAME\"\n",
    " - [ReLU](https://www.tensorflow.org/api_docs/python/tf/keras/layers/ReLU)\n",
    " - [MaxPool2D](https://www.tensorflow.org/api_docs/python/tf/keras/layers/MaxPool2D): Use an 8 by 8 filter size and an 8 by 8 stride, padding is \"SAME\"\n",
    " - **Conv2D**: Use 16 2 by 2 filters, stride 1, padding is \"SAME\"\n",
    " - **ReLU**\n",
    " - **MaxPool2D**: Use a 4 by 4 filter size and a 4 by 4 stride, padding is \"SAME\"\n",
    " - [Flatten](https://www.tensorflow.org/api_docs/python/tf/keras/layers/Flatten) the previous output.\n",
    " - Fully-connected ([Dense](https://www.tensorflow.org/api_docs/python/tf/keras/layers/Dense)) layer: Apply a fully connected layer with 6 neurons and a softmax activation. "
   ]
  },
  {
   "cell_type": "code",
   "execution_count": 148,
   "metadata": {
    "deletable": false,
    "nbgrader": {
     "cell_type": "code",
     "checksum": "f58643806aa8380c96225fc8b4c5e7aa",
     "grade": false,
     "grade_id": "cell-dac51744a9e03f51",
     "locked": false,
     "schema_version": 3,
     "solution": true,
     "task": false
    }
   },
   "outputs": [],
   "source": [
    "# GRADED FUNCTION: convolutional_model\n",
    "\n",
    "def convolutional_model(input_shape):\n",
    "    \"\"\"\n",
    "    Implements the forward propagation for the model:\n",
    "    CONV2D -> RELU -> MAXPOOL -> CONV2D -> RELU -> MAXPOOL -> FLATTEN -> DENSE\n",
    "    \n",
    "    Note that for simplicity and grading purposes, you'll hard-code some values\n",
    "    such as the stride and kernel (filter) sizes. \n",
    "    Normally, functions should take these values as function parameters.\n",
    "    \n",
    "    Arguments:\n",
    "    input_img -- input dataset, of shape (input_shape)\n",
    "\n",
    "    Returns:\n",
    "    model -- TF Keras model (object containing the information for the entire training process) \n",
    "    \"\"\"\n",
    "\n",
    "    input_img = tf.keras.Input(shape=input_shape)\n",
    "    ## CONV2D: 8 filters 4x4, stride of 1, padding 'SAME'\n",
    "    # Z1 = None\n",
    "    ## RELU\n",
    "    # A1 = None\n",
    "    ## MAXPOOL: window 8x8, stride 8, padding 'SAME'\n",
    "    # P1 = None\n",
    "    ## CONV2D: 16 filters 2x2, stride 1, padding 'SAME'\n",
    "    # Z2 = None\n",
    "    ## RELU\n",
    "    # A2 = None\n",
    "    ## MAXPOOL: window 4x4, stride 4, padding 'SAME'\n",
    "    # P2 = None\n",
    "    ## FLATTEN\n",
    "    # F = None\n",
    "    ## Dense layer\n",
    "    ## 6 neurons in output layer. Hint: one of the arguments should be \"activation='softmax'\" \n",
    "    # outputs = None\n",
    "    \n",
    "    \n",
    "    # YOUR CODE STARTS HERE\n",
    "    \n",
    "    Z1= tf.keras.layers.Conv2D(8,(4,4), strides=(1,1),padding='same')(input_img)\n",
    "    A1= tf.keras.layers.ReLU()(Z1)\n",
    "    P1= tf.keras.layers.MaxPool2D(pool_size=(8,8), strides=(8,8), padding='same')(A1)\n",
    "    Z2= tf.keras.layers.Conv2D(16,(2,2), strides=(1,1),padding='same' )(P1)\n",
    "    A2= tf.keras.layers.ReLU()(Z2)\n",
    "    P2= tf.keras.layers.MaxPool2D((4,4), strides=(4,4), padding='same')(A2)\n",
    "    F= tf.keras.layers.Flatten()(P2)\n",
    "    outputs= tf.keras.layers.Dense(6, activation='softmax', name='fc')(F)\n",
    "    \n",
    "    # YOUR CODE ENDS HERE\n",
    "    \n",
    "    \n",
    "    model = tf.keras.Model(inputs=input_img, outputs=outputs)\n",
    "    return model"
   ]
  },
  {
   "cell_type": "code",
   "execution_count": 149,
   "metadata": {
    "deletable": false,
    "editable": false,
    "nbgrader": {
     "cell_type": "code",
     "checksum": "483d626949930a0b0ef20997e7c6ba72",
     "grade": true,
     "grade_id": "cell-45d22e92042174c9",
     "locked": true,
     "points": 10,
     "schema_version": 3,
     "solution": false,
     "task": false
    }
   },
   "outputs": [
    {
     "name": "stdout",
     "output_type": "stream",
     "text": [
      "Model: \"functional_2\"\n",
      "_________________________________________________________________\n",
      "Layer (type)                 Output Shape              Param #   \n",
      "=================================================================\n",
      "input_10 (InputLayer)        [(None, 64, 64, 3)]       0         \n",
      "_________________________________________________________________\n",
      "conv2d_2 (Conv2D)            (None, 64, 64, 8)         392       \n",
      "_________________________________________________________________\n",
      "re_lu_5 (ReLU)               (None, 64, 64, 8)         0         \n",
      "_________________________________________________________________\n",
      "max_pooling2d_2 (MaxPooling2 (None, 8, 8, 8)           0         \n",
      "_________________________________________________________________\n",
      "conv2d_3 (Conv2D)            (None, 8, 8, 16)          528       \n",
      "_________________________________________________________________\n",
      "re_lu_6 (ReLU)               (None, 8, 8, 16)          0         \n",
      "_________________________________________________________________\n",
      "max_pooling2d_3 (MaxPooling2 (None, 2, 2, 16)          0         \n",
      "_________________________________________________________________\n",
      "flatten_8 (Flatten)          (None, 64)                0         \n",
      "_________________________________________________________________\n",
      "fc (Dense)                   (None, 6)                 390       \n",
      "=================================================================\n",
      "Total params: 1,310\n",
      "Trainable params: 1,310\n",
      "Non-trainable params: 0\n",
      "_________________________________________________________________\n",
      "\u001b[32mAll tests passed!\u001b[0m\n"
     ]
    }
   ],
   "source": [
    "conv_model = convolutional_model((64, 64, 3))\n",
    "conv_model.compile(optimizer='adam',\n",
    "                  loss='categorical_crossentropy',\n",
    "                  metrics=['accuracy'])\n",
    "conv_model.summary()\n",
    "    \n",
    "output = [['InputLayer', [(None, 64, 64, 3)], 0],\n",
    "        ['Conv2D', (None, 64, 64, 8), 392, 'same', 'linear', 'GlorotUniform'],\n",
    "        ['ReLU', (None, 64, 64, 8), 0],\n",
    "        ['MaxPooling2D', (None, 8, 8, 8), 0, (8, 8), (8, 8), 'same'],\n",
    "        ['Conv2D', (None, 8, 8, 16), 528, 'same', 'linear', 'GlorotUniform'],\n",
    "        ['ReLU', (None, 8, 8, 16), 0],\n",
    "        ['MaxPooling2D', (None, 2, 2, 16), 0, (4, 4), (4, 4), 'same'],\n",
    "        ['Flatten', (None, 64), 0],\n",
    "        ['Dense', (None, 6), 390, 'softmax']]\n",
    "    \n",
    "comparator(summary(conv_model), output)"
   ]
  },
  {
   "cell_type": "markdown",
   "metadata": {},
   "source": [
    "Both the Sequential and Functional APIs return a TF Keras model object. The only difference is how inputs are handled inside the object model! "
   ]
  },
  {
   "cell_type": "markdown",
   "metadata": {},
   "source": [
    "<a name='4-4'></a>\n",
    "### 4.4 - Train the Model"
   ]
  },
  {
   "cell_type": "code",
   "execution_count": 150,
   "metadata": {},
   "outputs": [
    {
     "name": "stdout",
     "output_type": "stream",
     "text": [
      "Epoch 1/100\n",
      "17/17 [==============================] - 2s 107ms/step - loss: 1.8048 - accuracy: 0.1676 - val_loss: 1.7933 - val_accuracy: 0.1667\n",
      "Epoch 2/100\n",
      "17/17 [==============================] - 2s 100ms/step - loss: 1.7903 - accuracy: 0.1667 - val_loss: 1.7873 - val_accuracy: 0.1667\n",
      "Epoch 3/100\n",
      "17/17 [==============================] - 2s 106ms/step - loss: 1.7852 - accuracy: 0.1796 - val_loss: 1.7813 - val_accuracy: 0.1667\n",
      "Epoch 4/100\n",
      "17/17 [==============================] - 2s 106ms/step - loss: 1.7808 - accuracy: 0.2000 - val_loss: 1.7763 - val_accuracy: 0.2500\n",
      "Epoch 5/100\n",
      "17/17 [==============================] - 2s 106ms/step - loss: 1.7752 - accuracy: 0.2306 - val_loss: 1.7704 - val_accuracy: 0.2250\n",
      "Epoch 6/100\n",
      "17/17 [==============================] - 2s 106ms/step - loss: 1.7690 - accuracy: 0.2546 - val_loss: 1.7643 - val_accuracy: 0.2417\n",
      "Epoch 7/100\n",
      "17/17 [==============================] - 2s 106ms/step - loss: 1.7616 - accuracy: 0.2833 - val_loss: 1.7562 - val_accuracy: 0.2750\n",
      "Epoch 8/100\n",
      "17/17 [==============================] - 2s 106ms/step - loss: 1.7518 - accuracy: 0.3269 - val_loss: 1.7453 - val_accuracy: 0.3333\n",
      "Epoch 9/100\n",
      "17/17 [==============================] - 2s 106ms/step - loss: 1.7393 - accuracy: 0.3565 - val_loss: 1.7307 - val_accuracy: 0.4167\n",
      "Epoch 10/100\n",
      "17/17 [==============================] - 2s 106ms/step - loss: 1.7224 - accuracy: 0.3991 - val_loss: 1.7122 - val_accuracy: 0.4333\n",
      "Epoch 11/100\n",
      "17/17 [==============================] - 2s 107ms/step - loss: 1.7013 - accuracy: 0.4306 - val_loss: 1.6908 - val_accuracy: 0.4333\n",
      "Epoch 12/100\n",
      "17/17 [==============================] - 2s 106ms/step - loss: 1.6736 - accuracy: 0.4630 - val_loss: 1.6604 - val_accuracy: 0.4333\n",
      "Epoch 13/100\n",
      "17/17 [==============================] - 2s 106ms/step - loss: 1.6399 - accuracy: 0.4694 - val_loss: 1.6231 - val_accuracy: 0.4917\n",
      "Epoch 14/100\n",
      "17/17 [==============================] - 2s 106ms/step - loss: 1.5996 - accuracy: 0.4852 - val_loss: 1.5813 - val_accuracy: 0.5000\n",
      "Epoch 15/100\n",
      "17/17 [==============================] - 2s 106ms/step - loss: 1.5556 - accuracy: 0.5046 - val_loss: 1.5371 - val_accuracy: 0.5000\n",
      "Epoch 16/100\n",
      "17/17 [==============================] - 2s 106ms/step - loss: 1.5078 - accuracy: 0.5287 - val_loss: 1.4905 - val_accuracy: 0.4833\n",
      "Epoch 17/100\n",
      "17/17 [==============================] - 2s 101ms/step - loss: 1.4592 - accuracy: 0.5324 - val_loss: 1.4434 - val_accuracy: 0.5000\n",
      "Epoch 18/100\n",
      "17/17 [==============================] - 2s 107ms/step - loss: 1.4093 - accuracy: 0.5481 - val_loss: 1.3952 - val_accuracy: 0.5167\n",
      "Epoch 19/100\n",
      "17/17 [==============================] - 2s 106ms/step - loss: 1.3616 - accuracy: 0.5500 - val_loss: 1.3490 - val_accuracy: 0.5250\n",
      "Epoch 20/100\n",
      "17/17 [==============================] - 2s 106ms/step - loss: 1.3145 - accuracy: 0.5676 - val_loss: 1.3084 - val_accuracy: 0.5167\n",
      "Epoch 21/100\n",
      "17/17 [==============================] - 2s 111ms/step - loss: 1.2714 - accuracy: 0.5852 - val_loss: 1.2671 - val_accuracy: 0.5417\n",
      "Epoch 22/100\n",
      "17/17 [==============================] - 2s 106ms/step - loss: 1.2322 - accuracy: 0.6000 - val_loss: 1.2312 - val_accuracy: 0.5667\n",
      "Epoch 23/100\n",
      "17/17 [==============================] - 2s 106ms/step - loss: 1.1943 - accuracy: 0.6157 - val_loss: 1.1984 - val_accuracy: 0.5667\n",
      "Epoch 24/100\n",
      "17/17 [==============================] - 2s 106ms/step - loss: 1.1573 - accuracy: 0.6269 - val_loss: 1.1699 - val_accuracy: 0.6167\n",
      "Epoch 25/100\n",
      "17/17 [==============================] - 2s 106ms/step - loss: 1.1256 - accuracy: 0.6380 - val_loss: 1.1392 - val_accuracy: 0.6583\n",
      "Epoch 26/100\n",
      "17/17 [==============================] - 2s 106ms/step - loss: 1.0950 - accuracy: 0.6546 - val_loss: 1.1130 - val_accuracy: 0.6750\n",
      "Epoch 27/100\n",
      "17/17 [==============================] - 2s 106ms/step - loss: 1.0661 - accuracy: 0.6676 - val_loss: 1.0874 - val_accuracy: 0.6833\n",
      "Epoch 28/100\n",
      "17/17 [==============================] - 2s 106ms/step - loss: 1.0406 - accuracy: 0.6778 - val_loss: 1.0623 - val_accuracy: 0.6833\n",
      "Epoch 29/100\n",
      "17/17 [==============================] - 2s 106ms/step - loss: 1.0148 - accuracy: 0.6796 - val_loss: 1.0403 - val_accuracy: 0.6833\n",
      "Epoch 30/100\n",
      "17/17 [==============================] - 2s 106ms/step - loss: 0.9908 - accuracy: 0.6880 - val_loss: 1.0186 - val_accuracy: 0.6833\n",
      "Epoch 31/100\n",
      "17/17 [==============================] - 2s 106ms/step - loss: 0.9681 - accuracy: 0.7028 - val_loss: 0.9975 - val_accuracy: 0.6917\n",
      "Epoch 32/100\n",
      "17/17 [==============================] - 2s 106ms/step - loss: 0.9459 - accuracy: 0.7028 - val_loss: 0.9767 - val_accuracy: 0.7083\n",
      "Epoch 33/100\n",
      "17/17 [==============================] - 2s 106ms/step - loss: 0.9258 - accuracy: 0.7120 - val_loss: 0.9562 - val_accuracy: 0.7167\n",
      "Epoch 34/100\n",
      "17/17 [==============================] - 2s 106ms/step - loss: 0.9049 - accuracy: 0.7213 - val_loss: 0.9385 - val_accuracy: 0.7250\n",
      "Epoch 35/100\n",
      "17/17 [==============================] - 2s 106ms/step - loss: 0.8860 - accuracy: 0.7287 - val_loss: 0.9194 - val_accuracy: 0.7250\n",
      "Epoch 36/100\n",
      "17/17 [==============================] - 2s 106ms/step - loss: 0.8676 - accuracy: 0.7333 - val_loss: 0.9063 - val_accuracy: 0.7333\n",
      "Epoch 37/100\n",
      "17/17 [==============================] - 2s 106ms/step - loss: 0.8513 - accuracy: 0.7398 - val_loss: 0.8889 - val_accuracy: 0.7417\n",
      "Epoch 38/100\n",
      "17/17 [==============================] - 2s 106ms/step - loss: 0.8338 - accuracy: 0.7454 - val_loss: 0.8775 - val_accuracy: 0.7417\n",
      "Epoch 39/100\n",
      "17/17 [==============================] - 2s 106ms/step - loss: 0.8188 - accuracy: 0.7491 - val_loss: 0.8635 - val_accuracy: 0.7417\n",
      "Epoch 40/100\n",
      "17/17 [==============================] - 2s 106ms/step - loss: 0.8040 - accuracy: 0.7556 - val_loss: 0.8518 - val_accuracy: 0.7417\n",
      "Epoch 41/100\n",
      "17/17 [==============================] - 2s 106ms/step - loss: 0.7900 - accuracy: 0.7611 - val_loss: 0.8373 - val_accuracy: 0.7583\n",
      "Epoch 42/100\n",
      "17/17 [==============================] - 2s 106ms/step - loss: 0.7756 - accuracy: 0.7620 - val_loss: 0.8272 - val_accuracy: 0.7583\n",
      "Epoch 43/100\n",
      "17/17 [==============================] - 2s 106ms/step - loss: 0.7629 - accuracy: 0.7657 - val_loss: 0.8150 - val_accuracy: 0.7583\n",
      "Epoch 44/100\n",
      "17/17 [==============================] - 2s 106ms/step - loss: 0.7502 - accuracy: 0.7685 - val_loss: 0.8052 - val_accuracy: 0.7583\n",
      "Epoch 45/100\n",
      "17/17 [==============================] - 2s 106ms/step - loss: 0.7382 - accuracy: 0.7731 - val_loss: 0.7942 - val_accuracy: 0.7667\n",
      "Epoch 46/100\n",
      "17/17 [==============================] - 2s 106ms/step - loss: 0.7267 - accuracy: 0.7750 - val_loss: 0.7836 - val_accuracy: 0.7750\n",
      "Epoch 47/100\n",
      "17/17 [==============================] - 2s 106ms/step - loss: 0.7153 - accuracy: 0.7806 - val_loss: 0.7731 - val_accuracy: 0.7750\n",
      "Epoch 48/100\n",
      "17/17 [==============================] - 2s 106ms/step - loss: 0.7043 - accuracy: 0.7833 - val_loss: 0.7637 - val_accuracy: 0.7750\n",
      "Epoch 49/100\n",
      "17/17 [==============================] - 2s 101ms/step - loss: 0.6942 - accuracy: 0.7852 - val_loss: 0.7553 - val_accuracy: 0.7750\n",
      "Epoch 50/100\n",
      "17/17 [==============================] - 2s 106ms/step - loss: 0.6840 - accuracy: 0.7870 - val_loss: 0.7470 - val_accuracy: 0.7750\n",
      "Epoch 51/100\n",
      "17/17 [==============================] - 2s 111ms/step - loss: 0.6743 - accuracy: 0.7926 - val_loss: 0.7394 - val_accuracy: 0.7833\n",
      "Epoch 52/100\n",
      "17/17 [==============================] - 2s 111ms/step - loss: 0.6649 - accuracy: 0.7926 - val_loss: 0.7311 - val_accuracy: 0.7917\n",
      "Epoch 53/100\n",
      "17/17 [==============================] - 2s 106ms/step - loss: 0.6559 - accuracy: 0.7963 - val_loss: 0.7239 - val_accuracy: 0.7917\n",
      "Epoch 54/100\n",
      "17/17 [==============================] - 2s 106ms/step - loss: 0.6474 - accuracy: 0.7991 - val_loss: 0.7167 - val_accuracy: 0.7917\n",
      "Epoch 55/100\n",
      "17/17 [==============================] - 2s 111ms/step - loss: 0.6386 - accuracy: 0.8009 - val_loss: 0.7098 - val_accuracy: 0.7833\n",
      "Epoch 56/100\n",
      "17/17 [==============================] - 2s 106ms/step - loss: 0.6302 - accuracy: 0.8037 - val_loss: 0.7032 - val_accuracy: 0.7917\n",
      "Epoch 57/100\n",
      "17/17 [==============================] - 2s 106ms/step - loss: 0.6217 - accuracy: 0.8083 - val_loss: 0.6961 - val_accuracy: 0.7917\n",
      "Epoch 58/100\n",
      "17/17 [==============================] - 2s 106ms/step - loss: 0.6136 - accuracy: 0.8120 - val_loss: 0.6898 - val_accuracy: 0.7833\n",
      "Epoch 59/100\n",
      "17/17 [==============================] - 2s 106ms/step - loss: 0.6059 - accuracy: 0.8120 - val_loss: 0.6837 - val_accuracy: 0.7833\n",
      "Epoch 60/100\n",
      "17/17 [==============================] - 2s 106ms/step - loss: 0.5984 - accuracy: 0.8130 - val_loss: 0.6781 - val_accuracy: 0.7833\n",
      "Epoch 61/100\n",
      "17/17 [==============================] - 2s 111ms/step - loss: 0.5913 - accuracy: 0.8148 - val_loss: 0.6725 - val_accuracy: 0.7833\n",
      "Epoch 62/100\n",
      "17/17 [==============================] - 2s 111ms/step - loss: 0.5843 - accuracy: 0.8167 - val_loss: 0.6673 - val_accuracy: 0.7833\n",
      "Epoch 63/100\n",
      "17/17 [==============================] - 2s 107ms/step - loss: 0.5772 - accuracy: 0.8194 - val_loss: 0.6611 - val_accuracy: 0.7833\n",
      "Epoch 64/100\n",
      "17/17 [==============================] - 2s 106ms/step - loss: 0.5705 - accuracy: 0.8222 - val_loss: 0.6561 - val_accuracy: 0.7833\n",
      "Epoch 65/100\n",
      "17/17 [==============================] - 2s 111ms/step - loss: 0.5640 - accuracy: 0.8269 - val_loss: 0.6510 - val_accuracy: 0.7917\n",
      "Epoch 66/100\n",
      "17/17 [==============================] - 2s 112ms/step - loss: 0.5576 - accuracy: 0.8287 - val_loss: 0.6468 - val_accuracy: 0.7833\n",
      "Epoch 67/100\n",
      "17/17 [==============================] - 2s 106ms/step - loss: 0.5512 - accuracy: 0.8352 - val_loss: 0.6434 - val_accuracy: 0.7833\n",
      "Epoch 68/100\n",
      "17/17 [==============================] - 2s 111ms/step - loss: 0.5451 - accuracy: 0.8343 - val_loss: 0.6401 - val_accuracy: 0.7833\n",
      "Epoch 69/100\n",
      "17/17 [==============================] - 2s 111ms/step - loss: 0.5392 - accuracy: 0.8389 - val_loss: 0.6363 - val_accuracy: 0.7833\n",
      "Epoch 70/100\n",
      "17/17 [==============================] - 2s 106ms/step - loss: 0.5331 - accuracy: 0.8435 - val_loss: 0.6336 - val_accuracy: 0.7833\n",
      "Epoch 71/100\n",
      "17/17 [==============================] - 2s 111ms/step - loss: 0.5278 - accuracy: 0.8417 - val_loss: 0.6305 - val_accuracy: 0.7833\n",
      "Epoch 72/100\n",
      "17/17 [==============================] - 2s 106ms/step - loss: 0.5222 - accuracy: 0.8454 - val_loss: 0.6269 - val_accuracy: 0.7833\n",
      "Epoch 73/100\n",
      "17/17 [==============================] - 2s 111ms/step - loss: 0.5167 - accuracy: 0.8463 - val_loss: 0.6238 - val_accuracy: 0.7833\n",
      "Epoch 74/100\n",
      "17/17 [==============================] - 2s 106ms/step - loss: 0.5115 - accuracy: 0.8472 - val_loss: 0.6204 - val_accuracy: 0.7833\n",
      "Epoch 75/100\n",
      "17/17 [==============================] - 2s 101ms/step - loss: 0.5067 - accuracy: 0.8500 - val_loss: 0.6189 - val_accuracy: 0.7833\n",
      "Epoch 76/100\n",
      "17/17 [==============================] - 2s 106ms/step - loss: 0.5021 - accuracy: 0.8500 - val_loss: 0.6136 - val_accuracy: 0.7833\n",
      "Epoch 77/100\n",
      "17/17 [==============================] - 2s 106ms/step - loss: 0.4970 - accuracy: 0.8528 - val_loss: 0.6115 - val_accuracy: 0.7833\n",
      "Epoch 78/100\n",
      "17/17 [==============================] - 2s 101ms/step - loss: 0.4928 - accuracy: 0.8546 - val_loss: 0.6089 - val_accuracy: 0.7833\n",
      "Epoch 79/100\n",
      "17/17 [==============================] - 2s 112ms/step - loss: 0.4885 - accuracy: 0.8565 - val_loss: 0.6063 - val_accuracy: 0.7833\n",
      "Epoch 80/100\n",
      "17/17 [==============================] - 2s 106ms/step - loss: 0.4841 - accuracy: 0.8565 - val_loss: 0.6032 - val_accuracy: 0.7833\n",
      "Epoch 81/100\n",
      "17/17 [==============================] - 2s 101ms/step - loss: 0.4796 - accuracy: 0.8602 - val_loss: 0.6024 - val_accuracy: 0.7833\n",
      "Epoch 82/100\n",
      "17/17 [==============================] - 2s 106ms/step - loss: 0.4750 - accuracy: 0.8630 - val_loss: 0.5970 - val_accuracy: 0.7833\n",
      "Epoch 83/100\n",
      "17/17 [==============================] - 2s 102ms/step - loss: 0.4708 - accuracy: 0.8620 - val_loss: 0.5922 - val_accuracy: 0.7833\n",
      "Epoch 84/100\n",
      "17/17 [==============================] - 2s 106ms/step - loss: 0.4662 - accuracy: 0.8657 - val_loss: 0.5907 - val_accuracy: 0.7833\n",
      "Epoch 85/100\n",
      "17/17 [==============================] - 2s 106ms/step - loss: 0.4625 - accuracy: 0.8620 - val_loss: 0.5865 - val_accuracy: 0.7833\n",
      "Epoch 86/100\n",
      "17/17 [==============================] - 2s 106ms/step - loss: 0.4585 - accuracy: 0.8648 - val_loss: 0.5829 - val_accuracy: 0.7833\n",
      "Epoch 87/100\n",
      "17/17 [==============================] - 2s 111ms/step - loss: 0.4551 - accuracy: 0.8639 - val_loss: 0.5790 - val_accuracy: 0.7833\n",
      "Epoch 88/100\n",
      "17/17 [==============================] - 2s 106ms/step - loss: 0.4513 - accuracy: 0.8657 - val_loss: 0.5767 - val_accuracy: 0.7833\n",
      "Epoch 89/100\n",
      "17/17 [==============================] - 2s 101ms/step - loss: 0.4484 - accuracy: 0.8648 - val_loss: 0.5718 - val_accuracy: 0.7833\n",
      "Epoch 90/100\n",
      "17/17 [==============================] - 2s 107ms/step - loss: 0.4443 - accuracy: 0.8667 - val_loss: 0.5683 - val_accuracy: 0.7833\n",
      "Epoch 91/100\n",
      "17/17 [==============================] - 2s 106ms/step - loss: 0.4410 - accuracy: 0.8676 - val_loss: 0.5636 - val_accuracy: 0.7833\n",
      "Epoch 92/100\n",
      "17/17 [==============================] - 2s 106ms/step - loss: 0.4369 - accuracy: 0.8685 - val_loss: 0.5597 - val_accuracy: 0.7917\n",
      "Epoch 93/100\n",
      "17/17 [==============================] - 2s 106ms/step - loss: 0.4340 - accuracy: 0.8676 - val_loss: 0.5585 - val_accuracy: 0.7833\n",
      "Epoch 94/100\n",
      "17/17 [==============================] - 2s 106ms/step - loss: 0.4303 - accuracy: 0.8694 - val_loss: 0.5528 - val_accuracy: 0.7917\n",
      "Epoch 95/100\n",
      "17/17 [==============================] - 2s 106ms/step - loss: 0.4268 - accuracy: 0.8694 - val_loss: 0.5500 - val_accuracy: 0.7917\n",
      "Epoch 96/100\n",
      "17/17 [==============================] - 2s 107ms/step - loss: 0.4231 - accuracy: 0.8722 - val_loss: 0.5467 - val_accuracy: 0.8000\n",
      "Epoch 97/100\n",
      "17/17 [==============================] - 2s 106ms/step - loss: 0.4197 - accuracy: 0.8694 - val_loss: 0.5413 - val_accuracy: 0.8083\n",
      "Epoch 98/100\n",
      "17/17 [==============================] - 2s 111ms/step - loss: 0.4166 - accuracy: 0.8731 - val_loss: 0.5418 - val_accuracy: 0.8000\n",
      "Epoch 99/100\n",
      "17/17 [==============================] - 2s 106ms/step - loss: 0.4129 - accuracy: 0.8722 - val_loss: 0.5349 - val_accuracy: 0.8000\n",
      "Epoch 100/100\n",
      "17/17 [==============================] - 2s 106ms/step - loss: 0.4097 - accuracy: 0.8731 - val_loss: 0.5336 - val_accuracy: 0.8000\n"
     ]
    }
   ],
   "source": [
    "train_dataset = tf.data.Dataset.from_tensor_slices((X_train, Y_train)).batch(64)\n",
    "test_dataset = tf.data.Dataset.from_tensor_slices((X_test, Y_test)).batch(64)\n",
    "history = conv_model.fit(train_dataset, epochs=100, validation_data=test_dataset)"
   ]
  },
  {
   "cell_type": "markdown",
   "metadata": {},
   "source": [
    "<a name='5'></a>\n",
    "## 5 - History Object \n",
    "\n",
    "The history object is an output of the `.fit()` operation, and provides a record of all the loss and metric values in memory. It's stored as a dictionary that you can retrieve at `history.history`: "
   ]
  },
  {
   "cell_type": "code",
   "execution_count": 151,
   "metadata": {},
   "outputs": [
    {
     "data": {
      "text/plain": [
       "{'loss': [1.8048429489135742,\n",
       "  1.7903187274932861,\n",
       "  1.7852288484573364,\n",
       "  1.7808218002319336,\n",
       "  1.775158405303955,\n",
       "  1.7690171003341675,\n",
       "  1.7616020441055298,\n",
       "  1.751847267150879,\n",
       "  1.7392630577087402,\n",
       "  1.7223910093307495,\n",
       "  1.7012919187545776,\n",
       "  1.6736127138137817,\n",
       "  1.6398742198944092,\n",
       "  1.5995707511901855,\n",
       "  1.555564522743225,\n",
       "  1.50777268409729,\n",
       "  1.4591799974441528,\n",
       "  1.4093377590179443,\n",
       "  1.3615901470184326,\n",
       "  1.3144980669021606,\n",
       "  1.2713825702667236,\n",
       "  1.232224464416504,\n",
       "  1.194285273551941,\n",
       "  1.1572558879852295,\n",
       "  1.1255804300308228,\n",
       "  1.0949759483337402,\n",
       "  1.0661283731460571,\n",
       "  1.040550708770752,\n",
       "  1.0147579908370972,\n",
       "  0.990799605846405,\n",
       "  0.9680966734886169,\n",
       "  0.9459169507026672,\n",
       "  0.9257782101631165,\n",
       "  0.9049307703971863,\n",
       "  0.8859705328941345,\n",
       "  0.8675959706306458,\n",
       "  0.8513199090957642,\n",
       "  0.8338465690612793,\n",
       "  0.8187755346298218,\n",
       "  0.8040172457695007,\n",
       "  0.7899582982063293,\n",
       "  0.7755605578422546,\n",
       "  0.7628558278083801,\n",
       "  0.7501854300498962,\n",
       "  0.7381800413131714,\n",
       "  0.7266808152198792,\n",
       "  0.715264618396759,\n",
       "  0.7043404579162598,\n",
       "  0.6941744685173035,\n",
       "  0.6840022206306458,\n",
       "  0.6743202805519104,\n",
       "  0.6649370789527893,\n",
       "  0.6559232473373413,\n",
       "  0.6473520398139954,\n",
       "  0.6385738849639893,\n",
       "  0.6302139163017273,\n",
       "  0.6217128038406372,\n",
       "  0.6135515570640564,\n",
       "  0.6058739423751831,\n",
       "  0.5983655452728271,\n",
       "  0.5912679433822632,\n",
       "  0.5843157768249512,\n",
       "  0.5771697759628296,\n",
       "  0.5705423951148987,\n",
       "  0.5640304088592529,\n",
       "  0.5575805902481079,\n",
       "  0.5511988401412964,\n",
       "  0.54507976770401,\n",
       "  0.5391843318939209,\n",
       "  0.5331124663352966,\n",
       "  0.5278335809707642,\n",
       "  0.5222058296203613,\n",
       "  0.5166783928871155,\n",
       "  0.5114823579788208,\n",
       "  0.5066723227500916,\n",
       "  0.5021225214004517,\n",
       "  0.49696293473243713,\n",
       "  0.49277156591415405,\n",
       "  0.4884946048259735,\n",
       "  0.48408955335617065,\n",
       "  0.4795685410499573,\n",
       "  0.4750472903251648,\n",
       "  0.4707546830177307,\n",
       "  0.4662243127822876,\n",
       "  0.4624849855899811,\n",
       "  0.45846185088157654,\n",
       "  0.4551205039024353,\n",
       "  0.4513145983219147,\n",
       "  0.44838568568229675,\n",
       "  0.4442557394504547,\n",
       "  0.4410496950149536,\n",
       "  0.4368579089641571,\n",
       "  0.4340490698814392,\n",
       "  0.4302740693092346,\n",
       "  0.42684686183929443,\n",
       "  0.4230750501155853,\n",
       "  0.41973876953125,\n",
       "  0.4165555238723755,\n",
       "  0.41293027997016907,\n",
       "  0.40972062945365906],\n",
       " 'accuracy': [0.1675925999879837,\n",
       "  0.1666666716337204,\n",
       "  0.1796296238899231,\n",
       "  0.20000000298023224,\n",
       "  0.23055554926395416,\n",
       "  0.25462964177131653,\n",
       "  0.28333333134651184,\n",
       "  0.32685184478759766,\n",
       "  0.35648149251937866,\n",
       "  0.39907407760620117,\n",
       "  0.4305555522441864,\n",
       "  0.46296295523643494,\n",
       "  0.4694444537162781,\n",
       "  0.4851851761341095,\n",
       "  0.5046296119689941,\n",
       "  0.5287036895751953,\n",
       "  0.5324074029922485,\n",
       "  0.5481481552124023,\n",
       "  0.550000011920929,\n",
       "  0.5675926208496094,\n",
       "  0.585185170173645,\n",
       "  0.6000000238418579,\n",
       "  0.6157407164573669,\n",
       "  0.6268518567085266,\n",
       "  0.6379629373550415,\n",
       "  0.654629647731781,\n",
       "  0.6675925850868225,\n",
       "  0.6777777671813965,\n",
       "  0.6796296238899231,\n",
       "  0.6879629492759705,\n",
       "  0.7027778029441833,\n",
       "  0.7027778029441833,\n",
       "  0.7120370268821716,\n",
       "  0.7212963104248047,\n",
       "  0.7287036776542664,\n",
       "  0.7333333492279053,\n",
       "  0.739814817905426,\n",
       "  0.7453703880310059,\n",
       "  0.7490741014480591,\n",
       "  0.7555555701255798,\n",
       "  0.7611111402511597,\n",
       "  0.7620370388031006,\n",
       "  0.7657407522201538,\n",
       "  0.7685185074806213,\n",
       "  0.7731481194496155,\n",
       "  0.7749999761581421,\n",
       "  0.7805555462837219,\n",
       "  0.7833333611488342,\n",
       "  0.7851851582527161,\n",
       "  0.7870370149612427,\n",
       "  0.7925925850868225,\n",
       "  0.7925925850868225,\n",
       "  0.7962962985038757,\n",
       "  0.7990740537643433,\n",
       "  0.8009259104728699,\n",
       "  0.8037037253379822,\n",
       "  0.8083333373069763,\n",
       "  0.8120370507240295,\n",
       "  0.8120370507240295,\n",
       "  0.8129629492759705,\n",
       "  0.8148148059844971,\n",
       "  0.8166666626930237,\n",
       "  0.8194444179534912,\n",
       "  0.8222222328186035,\n",
       "  0.8268518447875977,\n",
       "  0.8287037014961243,\n",
       "  0.835185170173645,\n",
       "  0.8342592716217041,\n",
       "  0.8388888835906982,\n",
       "  0.8435184955596924,\n",
       "  0.8416666388511658,\n",
       "  0.845370352268219,\n",
       "  0.8462963104248047,\n",
       "  0.8472222089767456,\n",
       "  0.8500000238418579,\n",
       "  0.8500000238418579,\n",
       "  0.8527777791023254,\n",
       "  0.854629635810852,\n",
       "  0.8564814925193787,\n",
       "  0.8564814925193787,\n",
       "  0.8601852059364319,\n",
       "  0.8629629611968994,\n",
       "  0.8620370626449585,\n",
       "  0.8657407164573669,\n",
       "  0.8620370626449585,\n",
       "  0.864814817905426,\n",
       "  0.8638888597488403,\n",
       "  0.8657407164573669,\n",
       "  0.864814817905426,\n",
       "  0.8666666746139526,\n",
       "  0.8675925731658936,\n",
       "  0.8685185313224792,\n",
       "  0.8675925731658936,\n",
       "  0.8694444298744202,\n",
       "  0.8694444298744202,\n",
       "  0.8722222447395325,\n",
       "  0.8694444298744202,\n",
       "  0.8731481432914734,\n",
       "  0.8722222447395325,\n",
       "  0.8731481432914734],\n",
       " 'val_loss': [1.7932721376419067,\n",
       "  1.787264347076416,\n",
       "  1.7813318967819214,\n",
       "  1.776342511177063,\n",
       "  1.7703872919082642,\n",
       "  1.7643448114395142,\n",
       "  1.756232738494873,\n",
       "  1.7453455924987793,\n",
       "  1.7307194471359253,\n",
       "  1.712157130241394,\n",
       "  1.6907519102096558,\n",
       "  1.660406231880188,\n",
       "  1.6231070756912231,\n",
       "  1.581342101097107,\n",
       "  1.537060022354126,\n",
       "  1.4904853105545044,\n",
       "  1.4434257745742798,\n",
       "  1.3952497243881226,\n",
       "  1.3489768505096436,\n",
       "  1.3083722591400146,\n",
       "  1.267119288444519,\n",
       "  1.2311711311340332,\n",
       "  1.1984072923660278,\n",
       "  1.1699278354644775,\n",
       "  1.1392263174057007,\n",
       "  1.1129685640335083,\n",
       "  1.0874297618865967,\n",
       "  1.0623080730438232,\n",
       "  1.0402501821517944,\n",
       "  1.0185977220535278,\n",
       "  0.997462809085846,\n",
       "  0.9766765236854553,\n",
       "  0.9561801552772522,\n",
       "  0.9384826421737671,\n",
       "  0.9193534851074219,\n",
       "  0.9062751531600952,\n",
       "  0.8889478445053101,\n",
       "  0.8775263428688049,\n",
       "  0.8634935617446899,\n",
       "  0.8518497347831726,\n",
       "  0.8372876644134521,\n",
       "  0.8271719217300415,\n",
       "  0.8149585723876953,\n",
       "  0.8051697611808777,\n",
       "  0.7942423224449158,\n",
       "  0.7835925817489624,\n",
       "  0.7730786800384521,\n",
       "  0.763689398765564,\n",
       "  0.7552559971809387,\n",
       "  0.7470466494560242,\n",
       "  0.7394387722015381,\n",
       "  0.731094479560852,\n",
       "  0.7239363193511963,\n",
       "  0.7166920900344849,\n",
       "  0.7098461389541626,\n",
       "  0.7032002806663513,\n",
       "  0.6961007714271545,\n",
       "  0.6898145079612732,\n",
       "  0.6836555600166321,\n",
       "  0.6781025528907776,\n",
       "  0.6725066900253296,\n",
       "  0.6672750115394592,\n",
       "  0.6611197590827942,\n",
       "  0.6560761332511902,\n",
       "  0.6510258913040161,\n",
       "  0.6468044519424438,\n",
       "  0.6433538794517517,\n",
       "  0.6400891542434692,\n",
       "  0.6362791061401367,\n",
       "  0.6336432099342346,\n",
       "  0.6305253505706787,\n",
       "  0.6269428133964539,\n",
       "  0.6237694025039673,\n",
       "  0.6203966736793518,\n",
       "  0.6188850402832031,\n",
       "  0.6136321425437927,\n",
       "  0.6114749908447266,\n",
       "  0.6089029908180237,\n",
       "  0.6062620282173157,\n",
       "  0.6031631231307983,\n",
       "  0.6023523807525635,\n",
       "  0.5970176458358765,\n",
       "  0.5922333002090454,\n",
       "  0.5906527042388916,\n",
       "  0.5865337252616882,\n",
       "  0.5828942656517029,\n",
       "  0.5789986252784729,\n",
       "  0.5767225027084351,\n",
       "  0.5717660188674927,\n",
       "  0.5682957768440247,\n",
       "  0.563568651676178,\n",
       "  0.5596861243247986,\n",
       "  0.5585035085678101,\n",
       "  0.5528456568717957,\n",
       "  0.5500306487083435,\n",
       "  0.5467315316200256,\n",
       "  0.5413119196891785,\n",
       "  0.5418080687522888,\n",
       "  0.5349222421646118,\n",
       "  0.5336331725120544],\n",
       " 'val_accuracy': [0.1666666716337204,\n",
       "  0.1666666716337204,\n",
       "  0.1666666716337204,\n",
       "  0.25,\n",
       "  0.22499999403953552,\n",
       "  0.24166665971279144,\n",
       "  0.2750000059604645,\n",
       "  0.3333333432674408,\n",
       "  0.4166666567325592,\n",
       "  0.4333333373069763,\n",
       "  0.4333333373069763,\n",
       "  0.4333333373069763,\n",
       "  0.49166667461395264,\n",
       "  0.5,\n",
       "  0.5,\n",
       "  0.4833333194255829,\n",
       "  0.5,\n",
       "  0.5166666507720947,\n",
       "  0.5249999761581421,\n",
       "  0.5166666507720947,\n",
       "  0.5416666865348816,\n",
       "  0.5666666626930237,\n",
       "  0.5666666626930237,\n",
       "  0.6166666746139526,\n",
       "  0.6583333611488342,\n",
       "  0.675000011920929,\n",
       "  0.6833333373069763,\n",
       "  0.6833333373069763,\n",
       "  0.6833333373069763,\n",
       "  0.6833333373069763,\n",
       "  0.6916666626930237,\n",
       "  0.7083333134651184,\n",
       "  0.7166666388511658,\n",
       "  0.7250000238418579,\n",
       "  0.7250000238418579,\n",
       "  0.7333333492279053,\n",
       "  0.7416666746139526,\n",
       "  0.7416666746139526,\n",
       "  0.7416666746139526,\n",
       "  0.7416666746139526,\n",
       "  0.7583333253860474,\n",
       "  0.7583333253860474,\n",
       "  0.7583333253860474,\n",
       "  0.7583333253860474,\n",
       "  0.7666666507720947,\n",
       "  0.7749999761581421,\n",
       "  0.7749999761581421,\n",
       "  0.7749999761581421,\n",
       "  0.7749999761581421,\n",
       "  0.7749999761581421,\n",
       "  0.7833333611488342,\n",
       "  0.7916666865348816,\n",
       "  0.7916666865348816,\n",
       "  0.7916666865348816,\n",
       "  0.7833333611488342,\n",
       "  0.7916666865348816,\n",
       "  0.7916666865348816,\n",
       "  0.7833333611488342,\n",
       "  0.7833333611488342,\n",
       "  0.7833333611488342,\n",
       "  0.7833333611488342,\n",
       "  0.7833333611488342,\n",
       "  0.7833333611488342,\n",
       "  0.7833333611488342,\n",
       "  0.7916666865348816,\n",
       "  0.7833333611488342,\n",
       "  0.7833333611488342,\n",
       "  0.7833333611488342,\n",
       "  0.7833333611488342,\n",
       "  0.7833333611488342,\n",
       "  0.7833333611488342,\n",
       "  0.7833333611488342,\n",
       "  0.7833333611488342,\n",
       "  0.7833333611488342,\n",
       "  0.7833333611488342,\n",
       "  0.7833333611488342,\n",
       "  0.7833333611488342,\n",
       "  0.7833333611488342,\n",
       "  0.7833333611488342,\n",
       "  0.7833333611488342,\n",
       "  0.7833333611488342,\n",
       "  0.7833333611488342,\n",
       "  0.7833333611488342,\n",
       "  0.7833333611488342,\n",
       "  0.7833333611488342,\n",
       "  0.7833333611488342,\n",
       "  0.7833333611488342,\n",
       "  0.7833333611488342,\n",
       "  0.7833333611488342,\n",
       "  0.7833333611488342,\n",
       "  0.7833333611488342,\n",
       "  0.7916666865348816,\n",
       "  0.7833333611488342,\n",
       "  0.7916666865348816,\n",
       "  0.7916666865348816,\n",
       "  0.800000011920929,\n",
       "  0.8083333373069763,\n",
       "  0.800000011920929,\n",
       "  0.800000011920929,\n",
       "  0.800000011920929]}"
      ]
     },
     "execution_count": 151,
     "metadata": {},
     "output_type": "execute_result"
    }
   ],
   "source": [
    "history.history"
   ]
  },
  {
   "cell_type": "markdown",
   "metadata": {},
   "source": [
    "Now visualize the loss over time using `history.history`: "
   ]
  },
  {
   "cell_type": "code",
   "execution_count": 152,
   "metadata": {},
   "outputs": [
    {
     "data": {
      "text/plain": [
       "[Text(0, 0.5, 'Accuracy'), Text(0.5, 0, 'Epoch')]"
      ]
     },
     "execution_count": 152,
     "metadata": {},
     "output_type": "execute_result"
    },
    {
     "data": {
      "image/png": "[encoded data removed]",
      "text/plain": [
       "<Figure size 864x576 with 1 Axes>"
      ]
     },
     "metadata": {
      "needs_background": "light"
     },
     "output_type": "display_data"
    },
    {
     "data": {
      "image/png": "[encoded data removed]",
      "text/plain": [
       "<Figure size 864x576 with 1 Axes>"
      ]
     },
     "metadata": {
      "needs_background": "light"
     },
     "output_type": "display_data"
    }
   ],
   "source": [
    "# The history.history[\"loss\"] entry is a dictionary with as many values as epochs that the\n",
    "# model was trained on. \n",
    "df_loss_acc = pd.DataFrame(history.history)\n",
    "df_loss= df_loss_acc[['loss','val_loss']]\n",
    "df_loss.rename(columns={'loss':'train','val_loss':'validation'},inplace=True)\n",
    "df_acc= df_loss_acc[['accuracy','val_accuracy']]\n",
    "df_acc.rename(columns={'accuracy':'train','val_accuracy':'validation'},inplace=True)\n",
    "df_loss.plot(title='Model loss',figsize=(12,8)).set(xlabel='Epoch',ylabel='Loss')\n",
    "df_acc.plot(title='Model Accuracy',figsize=(12,8)).set(xlabel='Epoch',ylabel='Accuracy')"
   ]
  },
  {
   "cell_type": "markdown",
   "metadata": {},
   "source": [
    "**Congratulations**! You've finished the assignment and built two models: One that recognizes  smiles, and another that recognizes SIGN language with almost 80% accuracy on the test set. In addition to that, you now also understand the applications of two Keras APIs: Sequential and Functional. Nicely done! \n",
    "\n",
    "By now, you know a bit about how the Functional API works and may have glimpsed the possibilities. In your next assignment, you'll really get a feel for its power when you get the opportunity to build a very deep ConvNet, using ResNets! "
   ]
  },
  {
   "cell_type": "markdown",
   "metadata": {},
   "source": [
    "<a name='6'></a>\n",
    "## 6 - Bibliography\n",
    "\n",
    "You're always encouraged to read the official documentation. To that end, you can find the docs for the Sequential and Functional APIs here: \n",
    "\n",
    "https://www.tensorflow.org/guide/keras/sequential_model\n",
    "\n",
    "https://www.tensorflow.org/guide/keras/functional"
   ]
  }
 ],
 "metadata": {
  "coursera": {
   "course_slug": "convolutional-neural-networks",
   "graded_item_id": "bwbJV",
   "launcher_item_id": "0TkXB"
  },
  "kernelspec": {
   "display_name": "Python 3",
   "language": "python",
   "name": "python3"
  },
  "language_info": {
   "codemirror_mode": {
    "name": "ipython",
    "version": 3
   },
   "file_extension": ".py",
   "mimetype": "text/x-python",
   "name": "python",
   "nbconvert_exporter": "python",
   "pygments_lexer": "ipython3",
   "version": "3.7.6"
  }
 },
 "nbformat": 4,
 "nbformat_minor": 2
}
